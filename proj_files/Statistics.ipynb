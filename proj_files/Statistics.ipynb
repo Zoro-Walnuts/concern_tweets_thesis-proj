{
 "cells": [
  {
   "cell_type": "code",
   "execution_count": 4,
   "id": "f6e4b186-514b-460f-8a37-73655eead731",
   "metadata": {},
   "outputs": [
    {
     "name": "stdout",
     "output_type": "stream",
     "text": [
      "T-statistic: inf\n",
      "P-value: 0.0000\n",
      "Reject the null hypothesis: The models have significantly different performances.\n"
     ]
    },
    {
     "name": "stderr",
     "output_type": "stream",
     "text": [
      "/home/cream/project/tf-gpu/tf-gpu/lib/python3.12/site-packages/scipy/stats/_axis_nan_policy.py:573: RuntimeWarning: Precision loss occurred in moment calculation due to catastrophic cancellation. This occurs when the data are nearly identical. Results may be unreliable.\n",
      "  res = hypotest_fun_out(*samples, **kwds)\n"
     ]
    }
   ],
   "source": [
    "import numpy as np\n",
    "from scipy.stats import ttest_rel\n",
    "\n",
    "# Example data: Performance metrics for two AI models\n",
    "# Replace these with your actual performance values\n",
    "model_1_performance = [0.9, 0.8]\n",
    "model_2_performance = [0.7, 0.6]\n",
    "\n",
    "# Ensure the data lengths are equal\n",
    "if len(model_1_performance) != len(model_2_performance):\n",
    "    raise ValueError(\"The two datasets must have the same number of observations.\")\n",
    "\n",
    "# Compute the paired t-test\n",
    "t_statistic, p_value = ttest_rel(model_1_performance, model_2_performance)\n",
    "\n",
    "# Display the results\n",
    "print(f\"T-statistic: {t_statistic:.4f}\")\n",
    "print(f\"P-value: {p_value:.4f}\")\n",
    "\n",
    "# Interpretation\n",
    "alpha = 0.05  # Significance level\n",
    "if p_value < alpha:\n",
    "    print(\"Reject the null hypothesis: The models have significantly different performances.\")\n",
    "else:\n",
    "    print(\"Fail to reject the null hypothesis: No significant difference in performance.\")\n"
   ]
  },
  {
   "cell_type": "code",
   "execution_count": null,
   "id": "f1071a1e-2b6c-4fcc-ab66-7726694e967f",
   "metadata": {},
   "outputs": [],
   "source": []
  }
 ],
 "metadata": {
  "kernelspec": {
   "display_name": "Python 3 (ipykernel)",
   "language": "python",
   "name": "python3"
  },
  "language_info": {
   "codemirror_mode": {
    "name": "ipython",
    "version": 3
   },
   "file_extension": ".py",
   "mimetype": "text/x-python",
   "name": "python",
   "nbconvert_exporter": "python",
   "pygments_lexer": "ipython3",
   "version": "3.12.3"
  }
 },
 "nbformat": 4,
 "nbformat_minor": 5
}
