{
 "cells": [
  {
   "cell_type": "markdown",
   "id": "482c128d-7807-45a4-843b-7aab5ed458aa",
   "metadata": {},
   "source": [
    "# GLOVe-Logistic Regression\n",
    "- Uses logistic regression on GloVe embedding representation of tweets"
   ]
  },
  {
   "cell_type": "code",
   "execution_count": 1,
   "id": "c8e4e57f-aa0e-4aab-a35b-3739d8952084",
   "metadata": {},
   "outputs": [
    {
     "name": "stderr",
     "output_type": "stream",
     "text": [
      "[nltk_data] Downloading package stopwords to\n",
      "[nltk_data]     /home/walnuts/nltk_data...\n",
      "[nltk_data]   Package stopwords is already up-to-date!\n"
     ]
    }
   ],
   "source": [
    "## IMPORTS\n",
    "# GLOVE Embeddings\n",
    "import spacy\n",
    "\n",
    "# Logistic Regression\n",
    "from sklearn.linear_model import LogisticRegression\n",
    "from sklearn.model_selection import train_test_split\n",
    "from sklearn.metrics import accuracy_score\n",
    "from sklearn.feature_extraction.text import CountVectorizer\n",
    "\n",
    "# GLOVE Embeddings\n",
    "import spacy\n",
    "\n",
    "# Preprocessing\n",
    "import csv\n",
    "import chardet\n",
    "import numpy as np\n",
    "import re\n",
    "import pandas as pd\n",
    "import demoji\n",
    "from sklearn.preprocessing import StandardScaler\n",
    "from imblearn.under_sampling import RandomUnderSampler\n",
    "from imblearn.over_sampling import SMOTE\n",
    "import json\n",
    "\n",
    "# metrics\n",
    "from sklearn.model_selection import StratifiedKFold, learning_curve\n",
    "from sklearn.metrics import accuracy_score, precision_score, recall_score, f1_score, confusion_matrix, balanced_accuracy_score, roc_auc_score, roc_curve\n",
    "import matplotlib.pyplot as plt\n",
    "import seaborn as sns\n",
    "\n",
    "import os\n",
    "import pickle\n",
    "\n",
    "import nltk\n",
    "nltk.download('stopwords')\n",
    "from nltk.corpus import stopwords\n",
    "from nltk.tokenize import word_tokenize"
   ]
  },
  {
   "cell_type": "code",
   "execution_count": 2,
   "id": "6af4d94e-114c-43e4-a3ab-d744fac4667f",
   "metadata": {},
   "outputs": [
    {
     "name": "stdout",
     "output_type": "stream",
     "text": [
      "total rows: 2338\n"
     ]
    },
    {
     "data": {
      "text/html": [
       "<div>\n",
       "<style scoped>\n",
       "    .dataframe tbody tr th:only-of-type {\n",
       "        vertical-align: middle;\n",
       "    }\n",
       "\n",
       "    .dataframe tbody tr th {\n",
       "        vertical-align: top;\n",
       "    }\n",
       "\n",
       "    .dataframe thead th {\n",
       "        text-align: right;\n",
       "    }\n",
       "</style>\n",
       "<table border=\"1\" class=\"dataframe\">\n",
       "  <thead>\n",
       "    <tr style=\"text-align: right;\">\n",
       "      <th></th>\n",
       "      <th>Username</th>\n",
       "      <th>Tweet</th>\n",
       "      <th>Date posted</th>\n",
       "      <th>Label</th>\n",
       "    </tr>\n",
       "  </thead>\n",
       "  <tbody>\n",
       "    <tr>\n",
       "      <th>0</th>\n",
       "      <td>@fudaishii</td>\n",
       "      <td>i'm genuinely going to attempt tonight i can't do this anymore i can't handle all this stress i wish i was never born bro</td>\n",
       "      <td>9/11/24</td>\n",
       "      <td>1</td>\n",
       "    </tr>\n",
       "    <tr>\n",
       "      <th>1</th>\n",
       "      <td>@yourdystiny</td>\n",
       "      <td>Becoming less reactive is a huge part of growth &amp; decreasing stress. If you let everything get you worked up, you’ll damage your mind, body &amp; spirit.</td>\n",
       "      <td>9/8/24</td>\n",
       "      <td>0</td>\n",
       "    </tr>\n",
       "    <tr>\n",
       "      <th>2</th>\n",
       "      <td>@ocenhxu</td>\n",
       "      <td>me ??? tired ??? stressed ??? exhausted ??? i wanna cry ??? yes.</td>\n",
       "      <td>9/8/24</td>\n",
       "      <td>1</td>\n",
       "    </tr>\n",
       "    <tr>\n",
       "      <th>3</th>\n",
       "      <td>@ifeelgoodto</td>\n",
       "      <td>skipping meals, irregular sleeping habits, overthinking, stress, tired and drained. that's me, that's my everyday life</td>\n",
       "      <td>9/10/24</td>\n",
       "      <td>1</td>\n",
       "    </tr>\n",
       "    <tr>\n",
       "      <th>4</th>\n",
       "      <td>@ysuckme</td>\n",
       "      <td>you deserve to be happy. not confused, not hurt, not stressed, just happy.</td>\n",
       "      <td>9/8/24</td>\n",
       "      <td>0</td>\n",
       "    </tr>\n",
       "  </tbody>\n",
       "</table>\n",
       "</div>"
      ],
      "text/plain": [
       "       Username  \\\n",
       "0    @fudaishii   \n",
       "1  @yourdystiny   \n",
       "2      @ocenhxu   \n",
       "3  @ifeelgoodto   \n",
       "4      @ysuckme   \n",
       "\n",
       "                                                                                                                                                   Tweet  \\\n",
       "0                              i'm genuinely going to attempt tonight i can't do this anymore i can't handle all this stress i wish i was never born bro   \n",
       "1  Becoming less reactive is a huge part of growth & decreasing stress. If you let everything get you worked up, you’ll damage your mind, body & spirit.   \n",
       "2                                                                                       me ??? tired ??? stressed ??? exhausted ??? i wanna cry ??? yes.   \n",
       "3                                 skipping meals, irregular sleeping habits, overthinking, stress, tired and drained. that's me, that's my everyday life   \n",
       "4                                                                             you deserve to be happy. not confused, not hurt, not stressed, just happy.   \n",
       "\n",
       "  Date posted  Label  \n",
       "0     9/11/24      1  \n",
       "1      9/8/24      0  \n",
       "2      9/8/24      1  \n",
       "3     9/10/24      1  \n",
       "4      9/8/24      0  "
      ]
     },
     "execution_count": 2,
     "metadata": {},
     "output_type": "execute_result"
    }
   ],
   "source": [
    "# Load the dataset / read csv\n",
    "# MAKE SURE CSV IS IN UTF-8 (if tweets have emojis)\n",
    "\n",
    "## Testing if csv can open (Use for troubleshooting)\n",
    "# with open('Eng_Tweets.csv') as csv_file:\n",
    "#   csvFile = csv.reader(csv_file, delimiter=',')\n",
    "#   for row in csv_file:\n",
    "#     print(row)\n",
    "\n",
    "# RUN PARAMETERS\n",
    "LANG = 1  # 1 = English | 2 = Tagalog | 3 = TagLish | 4 = Mixed\n",
    "\n",
    "pd.set_option('display.max_colwidth', None)\n",
    "\n",
    "# Assign the CSV path based on LANG value\n",
    "if LANG == 1:\n",
    "    csv_path = 'Eng_Tweets.csv'\n",
    "elif LANG == 2:\n",
    "    csv_path = 'Tag_Tweets.csv'\n",
    "elif LANG == 3:\n",
    "    csv_path = 'TagLish_Tweets.csv'\n",
    "elif LANG == 4:\n",
    "    csv_path = 'Mixed_Tweets.csv'\n",
    "else:\n",
    "    raise ValueError(\"Invalid value for LANG. Must be 1, 2, 3, or 4.\")\n",
    "\n",
    "df = pd.read_csv(csv_path)\n",
    "print(\"total rows: \" + str(len(df)))\n",
    "df.head() ## head won't show emojis unless using print function"
   ]
  },
  {
   "cell_type": "code",
   "execution_count": 3,
   "id": "bb5847db-3d8f-4244-855f-9d29e56c0f46",
   "metadata": {},
   "outputs": [
    {
     "data": {
      "text/plain": [
       "Username                                            @PaulKagame\n",
       "Tweet          After this conversation no stress at all !!!😁😁😍😍\n",
       "Date posted                                             2/24/23\n",
       "Label                                                         0\n",
       "Name: 22, dtype: object"
      ]
     },
     "execution_count": 3,
     "metadata": {},
     "output_type": "execute_result"
    }
   ],
   "source": [
    "df.loc[22]"
   ]
  },
  {
   "cell_type": "code",
   "execution_count": 4,
   "id": "ca91b833-93c7-433c-a094-a900694b5b4f",
   "metadata": {},
   "outputs": [
    {
     "data": {
      "text/plain": [
       "Label\n",
       "0    1897\n",
       "1     441\n",
       "Name: count, dtype: int64"
      ]
     },
     "execution_count": 4,
     "metadata": {},
     "output_type": "execute_result"
    }
   ],
   "source": [
    "df['Label'].value_counts()"
   ]
  },
  {
   "cell_type": "markdown",
   "id": "4700226b-a641-4d3c-80b0-520757dba866",
   "metadata": {},
   "source": [
    "## Preprocessing\n",
    "- Remove mentions (@)\n",
    "- Remove hashtags (#)\n",
    "- Remove URLs\n",
    "- Replace emojis with textual description (Using demoji)\n",
    "- Remove stop words"
   ]
  },
  {
   "cell_type": "code",
   "execution_count": 5,
   "id": "1f5069f5-9ad5-4752-9649-b0daf19ffb26",
   "metadata": {},
   "outputs": [],
   "source": [
    "### PREPROCESSING STEPS (FOR TAGALOG)\n",
    "with open('tl_stopwords.json', 'r') as f:\n",
    "    tagalog_stop_words = json.load(f)\n",
    "\n",
    "# Preprocessing functions\n",
    "def clean_text_tl(text):\n",
    "    # Remove mentions\n",
    "    text = re.sub(r'@[A-Za-z0-9_]+', '', text)\n",
    "    # Remove hashtags\n",
    "    text = re.sub(r'#\\w+', '', text)\n",
    "    # Remove URLs\n",
    "    text = re.sub(r'http\\S+|www\\S+|https\\S+', '', text)\n",
    "    # Replace emoji with textual descriptions\n",
    "    text = demoji.replace_with_desc(text)\n",
    "    text = re.sub(r'(:[a-zA-Z\\s]+:)', r' \\1 ', text)  # Add spaces around the shortcode\n",
    "    text = re.sub(r'(:[a-zA-Z\\s]+:)', lambda match: match.group(0).replace(' ', '_'), text)\n",
    "    text = text.strip()\n",
    "    return text\n",
    "\n",
    "def remove_stopwords_tl(text):\n",
    "    words = text.split()\n",
    "    filtered_words = [word for word in words if word.lower() not in tagalog_stop_words]\n",
    "    return ' '.join(filtered_words)"
   ]
  },
  {
   "cell_type": "code",
   "execution_count": 6,
   "id": "025fba1e-6627-477c-bc30-a5567a5690a6",
   "metadata": {},
   "outputs": [],
   "source": [
    "### PREPROCESSING STEPS\n",
    "def clean_text(text):\n",
    "  # Remove mentions\n",
    "  text = re.sub(r'@[A-Za-z0-9_]+', '', text)\n",
    "  # Remove hashtags\n",
    "  text = re.sub(r'#\\w+', '', text)\n",
    "  # Remove URLs\n",
    "  text = re.sub(r'http\\S+|www\\S+|https\\S+', '', text)\n",
    "  # Replace emoji with textual descriptions\n",
    "  text = demoji.replace_with_desc(text)\n",
    "  text = re.sub(r'(:[a-zA-Z\\s]+:)', r' \\1 ', text) # Add spaces around the shortcode\n",
    "  text = re.sub(r'(:[a-zA-Z\\s]+:)', lambda match: match.group(0).replace(' ', '_'), text)\n",
    "  text = text.strip()\n",
    "  return text\n",
    "\n",
    "stop_words = set(stopwords.words('english'))\n",
    "def remove_stopwords(text):\n",
    "  words = text.split()\n",
    "  filtered_words = [word for word in words if word.lower() not in stop_words]\n",
    "  return ' '.join(filtered_words)"
   ]
  },
  {
   "cell_type": "code",
   "execution_count": 7,
   "id": "3a0c5fc8-596c-4acb-b76f-cb903b2d5ea7",
   "metadata": {},
   "outputs": [
    {
     "name": "stdout",
     "output_type": "stream",
     "text": [
      "EXECUTING TAGALOG TWEET CLEANING\n"
     ]
    },
    {
     "data": {
      "text/html": [
       "<div>\n",
       "<style scoped>\n",
       "    .dataframe tbody tr th:only-of-type {\n",
       "        vertical-align: middle;\n",
       "    }\n",
       "\n",
       "    .dataframe tbody tr th {\n",
       "        vertical-align: top;\n",
       "    }\n",
       "\n",
       "    .dataframe thead th {\n",
       "        text-align: right;\n",
       "    }\n",
       "</style>\n",
       "<table border=\"1\" class=\"dataframe\">\n",
       "  <thead>\n",
       "    <tr style=\"text-align: right;\">\n",
       "      <th></th>\n",
       "      <th>Username</th>\n",
       "      <th>Tweet</th>\n",
       "      <th>Date posted</th>\n",
       "      <th>Label</th>\n",
       "    </tr>\n",
       "  </thead>\n",
       "  <tbody>\n",
       "    <tr>\n",
       "      <th>0</th>\n",
       "      <td>@fudaishii</td>\n",
       "      <td>i'm genuinely going to attempt tonight i can't do this anymore i can't handle all this stress i wish i was never born bro</td>\n",
       "      <td>9/11/24</td>\n",
       "      <td>1</td>\n",
       "    </tr>\n",
       "    <tr>\n",
       "      <th>1</th>\n",
       "      <td>@yourdystiny</td>\n",
       "      <td>Becoming less reactive is a huge part of growth &amp; decreasing stress. If you let everything get you worked up, you’ll damage your mind, body &amp; spirit.</td>\n",
       "      <td>9/8/24</td>\n",
       "      <td>0</td>\n",
       "    </tr>\n",
       "    <tr>\n",
       "      <th>2</th>\n",
       "      <td>@ocenhxu</td>\n",
       "      <td>me ??? tired ??? stressed ??? exhausted ??? i wanna cry ??? yes.</td>\n",
       "      <td>9/8/24</td>\n",
       "      <td>1</td>\n",
       "    </tr>\n",
       "    <tr>\n",
       "      <th>3</th>\n",
       "      <td>@ifeelgoodto</td>\n",
       "      <td>skipping meals, irregular sleeping habits, overthinking, stress, tired and drained. that's me, that's my everyday life</td>\n",
       "      <td>9/10/24</td>\n",
       "      <td>1</td>\n",
       "    </tr>\n",
       "    <tr>\n",
       "      <th>4</th>\n",
       "      <td>@ysuckme</td>\n",
       "      <td>you deserve to be happy. not confused, not hurt, not stressed, just happy.</td>\n",
       "      <td>9/8/24</td>\n",
       "      <td>0</td>\n",
       "    </tr>\n",
       "  </tbody>\n",
       "</table>\n",
       "</div>"
      ],
      "text/plain": [
       "       Username  \\\n",
       "0    @fudaishii   \n",
       "1  @yourdystiny   \n",
       "2      @ocenhxu   \n",
       "3  @ifeelgoodto   \n",
       "4      @ysuckme   \n",
       "\n",
       "                                                                                                                                                   Tweet  \\\n",
       "0                              i'm genuinely going to attempt tonight i can't do this anymore i can't handle all this stress i wish i was never born bro   \n",
       "1  Becoming less reactive is a huge part of growth & decreasing stress. If you let everything get you worked up, you’ll damage your mind, body & spirit.   \n",
       "2                                                                                       me ??? tired ??? stressed ??? exhausted ??? i wanna cry ??? yes.   \n",
       "3                                 skipping meals, irregular sleeping habits, overthinking, stress, tired and drained. that's me, that's my everyday life   \n",
       "4                                                                             you deserve to be happy. not confused, not hurt, not stressed, just happy.   \n",
       "\n",
       "  Date posted  Label  \n",
       "0     9/11/24      1  \n",
       "1      9/8/24      0  \n",
       "2      9/8/24      1  \n",
       "3     9/10/24      1  \n",
       "4      9/8/24      0  "
      ]
     },
     "execution_count": 7,
     "metadata": {},
     "output_type": "execute_result"
    }
   ],
   "source": [
    "## Execute preprocessing\n",
    "df = df.dropna()  # Get rid of NaN rows\n",
    "\n",
    "if LANG == 1:\n",
    "    print(\"EXECUTING TAGALOG TWEET CLEANING\")\n",
    "    df['Tweet'] = df['Tweet'].apply(clean_text_tl)\n",
    "    df['Tweet'] = df['Tweet'].apply(remove_stopwords_tl)\n",
    "else:\n",
    "    print(\"EXECUTING ENGLISH TWEET CLEANING\")\n",
    "    df['Tweet'] = df['Tweet'].apply(clean_text)\n",
    "    df['Tweet'] = df['Tweet'].apply(remove_stopwords)\n",
    "\n",
    "df.head()"
   ]
  },
  {
   "cell_type": "code",
   "execution_count": 8,
   "id": "92302611-d742-490c-ae3b-2a2db662824f",
   "metadata": {},
   "outputs": [
    {
     "data": {
      "text/plain": [
       "Label\n",
       "0    1897\n",
       "1     441\n",
       "Name: count, dtype: int64"
      ]
     },
     "execution_count": 8,
     "metadata": {},
     "output_type": "execute_result"
    }
   ],
   "source": [
    "df['Label'].value_counts()"
   ]
  },
  {
   "cell_type": "code",
   "execution_count": 9,
   "id": "3b9cdfc1-5f53-45a0-85bc-4ae28cbfe353",
   "metadata": {},
   "outputs": [
    {
     "data": {
      "text/plain": [
       "Username                                                                                                                                                                    @PaulKagame\n",
       "Tweet          After this conversation no stress all !!! :beaming_face_with_smiling_eyes: :beaming_face_with_smiling_eyes: :smiling face with heart-eyes::smiling face with heart-eyes:\n",
       "Date posted                                                                                                                                                                     2/24/23\n",
       "Label                                                                                                                                                                                 0\n",
       "Name: 22, dtype: object"
      ]
     },
     "execution_count": 9,
     "metadata": {},
     "output_type": "execute_result"
    }
   ],
   "source": [
    "df.loc[22]"
   ]
  },
  {
   "cell_type": "markdown",
   "id": "9ffa8c6f-aae1-46e3-8c21-4f19210b09e0",
   "metadata": {},
   "source": [
    "## GloVe Embeddings\n",
    "- Make sure to run \"python -m spacy download en_core_web_md\"\n",
    "- GloVe embeddings are then averaged and standardized\n",
    "- Train-Test-Validation split = 70% - 20% - 10%\n",
    "- Uses undersampling to balance the training set\n",
    "- Uses standard scaler for standardization of values"
   ]
  },
  {
   "cell_type": "code",
   "execution_count": 10,
   "id": "3e23daf1-a849-4d4d-bd2d-1de229e1f8f1",
   "metadata": {},
   "outputs": [
    {
     "name": "stderr",
     "output_type": "stream",
     "text": [
      "/home/walnuts/projects/tf-gpu/lib/python3.12/site-packages/tqdm/auto.py:21: TqdmWarning: IProgress not found. Please update jupyter and ipywidgets. See https://ipywidgets.readthedocs.io/en/stable/user_install.html\n",
      "  from .autonotebook import tqdm as notebook_tqdm\n",
      "/home/walnuts/projects/tf-gpu/lib/python3.12/site-packages/transformers/utils/generic.py:441: FutureWarning: `torch.utils._pytree._register_pytree_node` is deprecated. Please use `torch.utils._pytree.register_pytree_node` instead.\n",
      "  _torch_pytree._register_pytree_node(\n",
      "/home/walnuts/projects/tf-gpu/lib/python3.12/site-packages/transformers/utils/generic.py:309: FutureWarning: `torch.utils._pytree._register_pytree_node` is deprecated. Please use `torch.utils._pytree.register_pytree_node` instead.\n",
      "  _torch_pytree._register_pytree_node(\n",
      "/home/walnuts/projects/tf-gpu/lib/python3.12/site-packages/spacy/pipeline/lemmatizer.py:211: UserWarning: [W108] The rule-based lemmatizer did not find POS annotation for one or more tokens. Check that your pipeline includes components that assign token.pos, typically 'tagger'+'attribute_ruler' or 'morphologizer'.\n",
      "  warnings.warn(Warnings.W108)\n"
     ]
    }
   ],
   "source": [
    "nlp = spacy.load(\"en_core_web_md\", disable=[\"tagger\", \"parser\", \"ner\"]) # disable non word-embedding parts of spacy\n",
    "\n",
    "# Create an empty list to store the embeddings\n",
    "embeddings = []\n",
    "\n",
    "# Iterate through the DataFrame\n",
    "for index, row in df.iterrows():\n",
    "    tweet = row['Tweet']\n",
    "    doc = nlp(tweet)\n",
    "\n",
    "    # Get the embeddings for each token and store them\n",
    "    tweet_embeddings = [token.vector for token in doc]\n",
    "    embeddings.append(tweet_embeddings)\n",
    "\n",
    "# Add the embeddings to the DataFrame as a new column\n",
    "df['embeddings'] = embeddings"
   ]
  },
  {
   "cell_type": "code",
   "execution_count": 11,
   "id": "7a57219f-4d27-4e77-a4b4-91a356e4fbc7",
   "metadata": {},
   "outputs": [],
   "source": [
    "# Function to average embeddings for a tweet\n",
    "def average_embeddings(embeddings_list):\n",
    "    if embeddings_list:\n",
    "        return np.mean(embeddings_list, axis=0)\n",
    "    else:\n",
    "        return np.zeros(300)  # 300 = embedding dimenstion"
   ]
  },
  {
   "cell_type": "code",
   "execution_count": 12,
   "id": "f0dba3d9-ee0a-4eee-bbc5-6ab5ad464ef1",
   "metadata": {},
   "outputs": [],
   "source": [
    "# Function to split the dataset into train, validation, and test\n",
    "def split_data(df, train_size=0.7, val_size=0.1, test_size=0.2):\n",
    "    # 70% into training 30% into validation + testing \n",
    "    train_df, temp_df = train_test_split(df, train_size=train_size, random_state=42)\n",
    "    \n",
    "    # 30% splits 10% into validation and 20% into testing\n",
    "    val_df, test_df = train_test_split(temp_df, train_size=val_size / (val_size + test_size), random_state=42)\n",
    "    \n",
    "    return train_df, val_df, test_df"
   ]
  },
  {
   "cell_type": "code",
   "execution_count": 13,
   "id": "7e46ded6-9be0-4ced-af89-12d5401ef731",
   "metadata": {},
   "outputs": [
    {
     "name": "stdout",
     "output_type": "stream",
     "text": [
      "Class distribution after oversampling:\n",
      "Label\n",
      "0    1313\n",
      "1    1313\n",
      "Name: count, dtype: int64\n"
     ]
    }
   ],
   "source": [
    "## WITH IMBALANCED DATASET\n",
    "# Average the sentence embedding into a single entry\n",
    "df['avg_embedding'] = df['embeddings'].apply(average_embeddings)\n",
    "\n",
    "# Split the dataset\n",
    "train_df, val_df, test_df = split_data(df)\n",
    "\n",
    "X_train = np.array(train_df['avg_embedding'].to_list())\n",
    "y_train = train_df['Label']\n",
    "X_val = np.array(val_df['avg_embedding'].to_list())\n",
    "y_val = val_df['Label']\n",
    "X_test = np.array(test_df['avg_embedding'].to_list())\n",
    "y_test = test_df['Label']\n",
    "\n",
    "## PICK ONE OF THESE\n",
    "# Undersample the training set to balance the classes\n",
    "# undersampler = RandomUnderSampler(sampling_strategy='auto', random_state=42)  # balances classes\n",
    "# X_train_resampled, y_train_resampled = undersampler.fit_resample(X_train, y_train)\n",
    "\n",
    "# Oversample the training set to balance the classes\n",
    "smote = SMOTE(sampling_strategy='auto', random_state=42)\n",
    "X_train_resampled, y_train_resampled = smote.fit_resample(X_train, y_train)\n",
    "\n",
    "# Optionally, check the class distribution after undersampling\n",
    "print(f\"Class distribution after oversampling:\\n{pd.Series(y_train_resampled).value_counts()}\")\n",
    "\n",
    "# Standardization\n",
    "scaler = StandardScaler()\n",
    "X_train_resampled = scaler.fit_transform(X_train_resampled)  # Apply scaling to the resampled data\n",
    "X_test = scaler.transform(X_test)  # Apply scaling to the test data\n",
    "X_val = scaler.transform(X_val)  # Apply scaling to the validation data\n",
    "\n",
    "\n",
    "# Assign the CSV path based on LANG value\n",
    "if LANG == 1:\n",
    "    path = 'English'\n",
    "elif LANG == 2:\n",
    "    path = 'Tagalog'\n",
    "elif LANG == 3:\n",
    "    path = 'Taglish'\n",
    "elif LANG == 4:\n",
    "    path = 'Mixed'\n",
    "\n",
    "os.makedirs('saved_models/' + path, exist_ok=True)\n",
    "os.makedirs('saved_models/Scalers/', exist_ok=True)\n",
    "\n",
    "scaler_path = \"saved_models/Scalers/RegressorScaler_\" + path + \".pkl\"\n",
    "with open(scaler_path, 'wb') as scaler_file:\n",
    "    pickle.dump(scaler, scaler_file)"
   ]
  },
  {
   "cell_type": "markdown",
   "id": "c833af9f-d323-47b5-b3a8-220251657cb9",
   "metadata": {},
   "source": [
    "## Logistic Regression"
   ]
  },
  {
   "cell_type": "code",
   "execution_count": 14,
   "id": "2954c64b-5c5f-474c-a900-6d2d5a464d0c",
   "metadata": {},
   "outputs": [
    {
     "name": "stdout",
     "output_type": "stream",
     "text": [
      "Model is properly loaded and fitted.\n",
      "Model saved successfully! in saved_models/English/logistic_regression_English.pkl\n"
     ]
    }
   ],
   "source": [
    "# Train and evaluate logistic regression with validation\n",
    "model = LogisticRegression(max_iter = 1000, random_state=42)\n",
    "model.fit(X_train_resampled, y_train_resampled)\n",
    "\n",
    "if not hasattr(model, 'coef_'):\n",
    "    raise ValueError(\"The model is not fitted yet. Please fit the model before using it.\")\n",
    "else:\n",
    "    print(\"Model is properly loaded and fitted.\")\n",
    "\n",
    "# save the model\n",
    "model_path = 'saved_models/' + path + '/logistic_regression_' + path + '.pkl'\n",
    "with open(model_path, 'wb') as f:\n",
    "    pickle.dump(model, f)\n",
    "\n",
    "print(\"Model saved successfully! in \" + model_path)"
   ]
  },
  {
   "cell_type": "markdown",
   "id": "bd517d39-b059-4b51-895a-95cc38dca3bf",
   "metadata": {},
   "source": [
    "## Metrics\n",
    "- Validation set\n",
    "    - Accuracy\n",
    "    - Precision\n",
    "    - Recall\n",
    "    - F1 Score\n",
    "    - Balanced Accuracy\n",
    "    - Confusion Matrix\n",
    "- Test Set\n",
    "    - Accuracy\n",
    "    - Precision\n",
    "    - Recall\n",
    "    - F1 Score\n",
    "    - Balanced Accuracy\n",
    "    - Confusion Matrix\n",
    "- ROC AUC"
   ]
  },
  {
   "cell_type": "code",
   "execution_count": 15,
   "id": "acf32541-68d4-4b8c-a0bd-c3ed182b525e",
   "metadata": {},
   "outputs": [
    {
     "name": "stdout",
     "output_type": "stream",
     "text": [
      "Validation Accuracy: 0.7905982905982906\n",
      "Validation Precision: 0.3939393939393939\n",
      "Validation Recall: 0.7428571428571429\n",
      "Validation F1 Score: 0.5148514851485149\n",
      "Validation Balanced Accuracy: 0.7709260588657574\n",
      "Validation Confusion Matrix: \n",
      "[[159  40]\n",
      " [  9  26]]\n",
      "Test Accuracy: 0.7692307692307693\n",
      "Test Precision: 0.4015748031496063\n",
      "Test Recall: 0.6144578313253012\n",
      "Test F1 Score: 0.4857142857142857\n",
      "Test Balanced Accuracy: 0.7085276169613519\n",
      "Test Confusion Matrix: \n",
      "[[309  76]\n",
      " [ 32  51]]\n",
      "Test ROC AUC: 0.7929901423877327\n"
     ]
    },
    {
     "data": {
      "image/png": "[encoded data removed]",
      "text/plain": [
       "<Figure size 800x600 with 1 Axes>"
      ]
     },
     "metadata": {},
     "output_type": "display_data"
    }
   ],
   "source": [
    "# Evaluation on validation set\n",
    "y_pred_val = model.predict(X_val)\n",
    "accuracy_val = accuracy_score(y_val, y_pred_val)\n",
    "precision_val = precision_score(y_val, y_pred_val)\n",
    "recall_val = recall_score(y_val, y_pred_val)\n",
    "f1_val = f1_score(y_val, y_pred_val)\n",
    "balanced_acc_val = balanced_accuracy_score(y_val, y_pred_val)  # Add balanced accuracy\n",
    "conf_matrix_val = confusion_matrix(y_val, y_pred_val)\n",
    "\n",
    "print(f\"Validation Accuracy: {accuracy_val}\")\n",
    "print(f\"Validation Precision: {precision_val}\")\n",
    "print(f\"Validation Recall: {recall_val}\")\n",
    "print(f\"Validation F1 Score: {f1_val}\")\n",
    "print(f\"Validation Balanced Accuracy: {balanced_acc_val}\")  # Print balanced accuracy\n",
    "print(f\"Validation Confusion Matrix: \\n{conf_matrix_val}\")\n",
    "\n",
    "# Final evaluation on test set\n",
    "y_pred_test = model.predict(X_test)\n",
    "accuracy_test = accuracy_score(y_test, y_pred_test)\n",
    "precision_test = precision_score(y_test, y_pred_test)\n",
    "recall_test = recall_score(y_test, y_pred_test)\n",
    "f1_test = f1_score(y_test, y_pred_test)\n",
    "balanced_acc_test = balanced_accuracy_score(y_test, y_pred_test)  # Add balanced accuracy\n",
    "conf_matrix_test = confusion_matrix(y_test, y_pred_test)\n",
    "\n",
    "print(f\"Test Accuracy: {accuracy_test}\")\n",
    "print(f\"Test Precision: {precision_test}\")\n",
    "print(f\"Test Recall: {recall_test}\")\n",
    "print(f\"Test F1 Score: {f1_test}\")\n",
    "print(f\"Test Balanced Accuracy: {balanced_acc_test}\")  # Print balanced accuracy\n",
    "print(f\"Test Confusion Matrix: \\n{conf_matrix_test}\")\n",
    "\n",
    "# Compute ROC AUC\n",
    "y_prob_test = model.predict_proba(X_test)[:, 1]  # Probabilities for the positive class\n",
    "roc_auc = roc_auc_score(y_test, y_prob_test)\n",
    "print(f\"Test ROC AUC: {roc_auc}\")\n",
    "\n",
    "# Plot ROC curve\n",
    "fpr, tpr, thresholds = roc_curve(y_test, y_prob_test)\n",
    "plt.figure(figsize=(8,6))\n",
    "plt.plot(fpr, tpr, label=f'ROC curve (AUC = {roc_auc:.2f})')\n",
    "plt.plot([0, 1], [0, 1], linestyle='--')\n",
    "plt.xlabel('False Positive Rate')\n",
    "plt.ylabel('True Positive Rate')\n",
    "plt.title('Receiver Operating Characteristic Curve')\n",
    "plt.legend(loc='lower right')\n",
    "plt.show()\n"
   ]
  },
  {
   "cell_type": "code",
   "execution_count": 16,
   "id": "b40e2294-5b1d-4a77-a586-fbd02dbeb04e",
   "metadata": {},
   "outputs": [
    {
     "data": {
      "image/png": "[encoded data removed]",
      "text/plain": [
       "<Figure size 600x500 with 2 Axes>"
      ]
     },
     "metadata": {},
     "output_type": "display_data"
    },
    {
     "data": {
      "image/png": "[encoded data removed]",
      "text/plain": [
       "<Figure size 600x500 with 2 Axes>"
      ]
     },
     "metadata": {},
     "output_type": "display_data"
    }
   ],
   "source": [
    "# Plot confusion matrix for test set\n",
    "plt.figure(figsize=(6, 5))\n",
    "sns.heatmap(conf_matrix_test, annot=True, fmt='d', cmap='Blues', \n",
    "            xticklabels=['Predicted Negative', 'Predicted Positive'], \n",
    "            yticklabels=['Actual Negative', 'Actual Positive'])\n",
    "plt.title('Confusion Matrix - Test Set')\n",
    "plt.ylabel('True Label')\n",
    "plt.xlabel('Predicted Label')\n",
    "plt.show()\n",
    "\n",
    "# Plot confusion matrix for validation set\n",
    "plt.figure(figsize=(6, 5))\n",
    "sns.heatmap(conf_matrix_val, annot=True, fmt='d', cmap='Blues', \n",
    "            xticklabels=['Predicted Negative', 'Predicted Positive'], \n",
    "            yticklabels=['Actual Negative', 'Actual Positive'])\n",
    "plt.title('Confusion Matrix - Validation Set')\n",
    "plt.ylabel('True Label')\n",
    "plt.xlabel('Predicted Label')\n",
    "plt.show()"
   ]
  },
  {
   "cell_type": "code",
   "execution_count": 17,
   "id": "16963bbf-257c-475d-807e-cb4b85129a45",
   "metadata": {},
   "outputs": [
    {
     "name": "stdout",
     "output_type": "stream",
     "text": [
      "Final Training Score: 0.9084\n",
      "Final Cross-validation Score: 0.8630\n"
     ]
    },
    {
     "data": {
      "image/png": "[encoded data removed]",
      "text/plain": [
       "<Figure size 800x600 with 1 Axes>"
      ]
     },
     "metadata": {},
     "output_type": "display_data"
    }
   ],
   "source": [
    "# Assuming you have already defined and resampled your data\n",
    "# X_train_resampled and y_train_resampled should be your training data and target\n",
    "\n",
    "# Initialize StratifiedKFold with 5 splits\n",
    "stratified_cv = StratifiedKFold(n_splits=30)\n",
    "\n",
    "# Initialize Logistic Regression model\n",
    "model = LogisticRegression(max_iter=1000)\n",
    "\n",
    "# Generate learning curve\n",
    "train_sizes, train_scores, test_scores = learning_curve(\n",
    "    model, X_train_resampled, y_train_resampled, cv=stratified_cv,  # Use StratifiedKFold\n",
    "    scoring='accuracy',  # Score using accuracy\n",
    "    train_sizes=np.linspace(0.1, 1.0, 10),  # Training sizes from 10% to 100%\n",
    "    n_jobs=-1  # Parallel processing\n",
    ")\n",
    "\n",
    "# Calculate the mean and standard deviation of train and test scores\n",
    "train_scores_mean = train_scores.mean(axis=1)\n",
    "train_scores_std = train_scores.std(axis=1)\n",
    "test_scores_mean = test_scores.mean(axis=1)\n",
    "test_scores_std = test_scores.std(axis=1)\n",
    "\n",
    "# Print the final scores (for the largest training set size)\n",
    "print(f\"Final Training Score: {train_scores_mean[-1]:.4f}\")\n",
    "print(f\"Final Cross-validation Score: {test_scores_mean[-1]:.4f}\")\n",
    "\n",
    "# Plot the learning curve\n",
    "plt.figure(figsize=(8, 6))\n",
    "plt.plot(train_sizes, train_scores_mean, label='Training score', color='blue')\n",
    "plt.plot(train_sizes, test_scores_mean, label='Cross-validation score', color='green')\n",
    "\n",
    "# Fill the area between the curve and the axis to represent the standard deviation\n",
    "plt.fill_between(train_sizes, train_scores_mean - train_scores_std, train_scores_mean + train_scores_std, color='blue', alpha=0.2)\n",
    "plt.fill_between(train_sizes, test_scores_mean - test_scores_std, test_scores_mean + test_scores_std, color='green', alpha=0.2)\n",
    "\n",
    "# Add labels and title\n",
    "plt.xlabel('Training Set Size')\n",
    "plt.ylabel('Accuracy')\n",
    "plt.title('Learning Curve for Logistic Regression')\n",
    "plt.legend(loc='best')\n",
    "plt.grid(True)\n",
    "plt.show()\n"
   ]
  },
  {
   "cell_type": "code",
   "execution_count": 18,
   "id": "1d4fb00e-8cca-45c0-9e06-88eec74d2ca0",
   "metadata": {},
   "outputs": [
    {
     "name": "stdout",
     "output_type": "stream",
     "text": [
      "[[0.54545455 0.75       0.54545455 0.71590909 0.625      0.68181818\n",
      "  0.67045455 0.72727273 0.68181818 0.71590909 0.70454545 0.77272727\n",
      "  0.70454545 0.73863636 0.69318182 0.72727273 0.70114943 0.59770115\n",
      "  0.71264368 0.71264368 0.68965517 0.72413793 0.68965517 0.67816092\n",
      "  0.66666667 0.72413793 0.6091954  0.66666667 0.64367816 0.7816092 ]\n",
      " [0.64772727 0.65909091 0.56818182 0.65909091 0.64772727 0.65909091\n",
      "  0.65909091 0.69318182 0.70454545 0.72727273 0.70454545 0.71590909\n",
      "  0.73863636 0.73863636 0.71590909 0.71590909 0.73563218 0.63218391\n",
      "  0.73563218 0.67816092 0.71264368 0.71264368 0.67816092 0.63218391\n",
      "  0.63218391 0.72413793 0.66666667 0.65517241 0.63218391 0.68965517]\n",
      " [0.68181818 0.67045455 0.48863636 0.68181818 0.71590909 0.68181818\n",
      "  0.69318182 0.70454545 0.75       0.78409091 0.72727273 0.77272727\n",
      "  0.81818182 0.79545455 0.72727273 0.75       0.82758621 0.66666667\n",
      "  0.77011494 0.72413793 0.71264368 0.72413793 0.75862069 0.74712644\n",
      "  0.59770115 0.74712644 0.70114943 0.74712644 0.71264368 0.72413793]\n",
      " [0.64772727 0.68181818 0.54545455 0.64772727 0.68181818 0.64772727\n",
      "  0.64772727 0.76136364 0.76136364 0.81818182 0.73863636 0.72727273\n",
      "  0.80681818 0.81818182 0.75       0.77272727 0.86206897 0.71264368\n",
      "  0.75862069 0.72413793 0.77011494 0.77011494 0.8045977  0.74712644\n",
      "  0.68965517 0.7816092  0.82758621 0.74712644 0.73563218 0.79310345]\n",
      " [0.69318182 0.71590909 0.63636364 0.67045455 0.64772727 0.67045455\n",
      "  0.63636364 0.76136364 0.73863636 0.81818182 0.75       0.75\n",
      "  0.84090909 0.80681818 0.78409091 0.77272727 0.82758621 0.70114943\n",
      "  0.74712644 0.77011494 0.75862069 0.77011494 0.79310345 0.74712644\n",
      "  0.71264368 0.79310345 0.82758621 0.75862069 0.72413793 0.73563218]\n",
      " [0.64772727 0.67045455 0.60227273 0.69318182 0.68181818 0.68181818\n",
      "  0.65909091 0.77272727 0.77272727 0.82954545 0.73863636 0.73863636\n",
      "  0.86363636 0.78409091 0.80681818 0.80681818 0.87356322 0.68965517\n",
      "  0.77011494 0.75862069 0.8045977  0.81609195 0.82758621 0.77011494\n",
      "  0.72413793 0.7816092  0.8045977  0.77011494 0.70114943 0.74712644]\n",
      " [0.75       0.72727273 0.63636364 0.73863636 0.76136364 0.75\n",
      "  0.69318182 0.82954545 0.82954545 0.82954545 0.79545455 0.80681818\n",
      "  0.88636364 0.85227273 0.82954545 0.86363636 0.86206897 0.77011494\n",
      "  0.81609195 0.8045977  0.83908046 0.87356322 0.88505747 0.81609195\n",
      "  0.77011494 0.87356322 0.85057471 0.85057471 0.74712644 0.83908046]\n",
      " [0.75       0.76136364 0.71590909 0.79545455 0.77272727 0.75\n",
      "  0.72727273 0.875      0.81818182 0.875      0.81818182 0.85227273\n",
      "  0.90909091 0.89772727 0.85227273 0.86363636 0.89655172 0.8045977\n",
      "  0.85057471 0.7816092  0.87356322 0.85057471 0.90804598 0.89655172\n",
      "  0.7816092  0.89655172 0.86206897 0.87356322 0.86206897 0.87356322]\n",
      " [0.76136364 0.76136364 0.76136364 0.82954545 0.78409091 0.77272727\n",
      "  0.78409091 0.875      0.82954545 0.89772727 0.84090909 0.85227273\n",
      "  0.92045455 0.90909091 0.84090909 0.875      0.90804598 0.82758621\n",
      "  0.88505747 0.82758621 0.88505747 0.88505747 0.91954023 0.89655172\n",
      "  0.82758621 0.91954023 0.86206897 0.88505747 0.89655172 0.86206897]\n",
      " [0.76136364 0.77272727 0.77272727 0.89772727 0.80681818 0.81818182\n",
      "  0.77272727 0.88636364 0.85227273 0.90909091 0.85227273 0.85227273\n",
      "  0.92045455 0.90909091 0.84090909 0.875      0.89655172 0.83908046\n",
      "  0.85057471 0.86206897 0.91954023 0.89655172 0.90804598 0.87356322\n",
      "  0.86206897 0.91954023 0.88505747 0.89655172 0.90804598 0.87356322]]\n"
     ]
    }
   ],
   "source": [
    "print(test_scores)"
   ]
  },
  {
   "cell_type": "code",
   "execution_count": 19,
   "id": "9a88e16b-9851-40bd-be75-266690916119",
   "metadata": {},
   "outputs": [
    {
     "name": "stdout",
     "output_type": "stream",
     "text": [
      "Test scores for each fold (accuracy): [0.8636363636363636, 0.8636363636363636, 0.8636363636363636, 0.875, 0.8181818181818182, 0.8522727272727273, 0.8636363636363636, 0.875, 0.875, 0.7386363636363636, 0.8409090909090909, 0.8409090909090909, 0.8181818181818182, 0.875, 0.8295454545454546, 0.8636363636363636, 0.8850574712643678, 0.8850574712643678, 0.8160919540229885, 0.9195402298850575, 0.8735632183908046, 0.8850574712643678, 0.8735632183908046, 0.8390804597701149, 0.8850574712643678, 0.8505747126436781, 0.9310344827586207, 0.8735632183908046, 0.8505747126436781, 0.8390804597701149]\n",
      "Average accuracy across all folds: 0.8587904911180771\n"
     ]
    }
   ],
   "source": [
    "from sklearn.linear_model import LogisticRegression\n",
    "from sklearn.model_selection import StratifiedKFold\n",
    "import pandas as pd\n",
    "import numpy as np\n",
    "\n",
    "# Initialize Logistic Regression model\n",
    "model = LogisticRegression(max_iter=1000, random_state=42)\n",
    "\n",
    "# Create StratifiedKFold instance with 30 splits\n",
    "kf = StratifiedKFold(n_splits=30, shuffle=True, random_state=42)\n",
    "\n",
    "# List to store test scores for each fold\n",
    "test_scores = []\n",
    "\n",
    "# Perform manual K-Fold cross-validation\n",
    "for train_index, test_index in kf.split(X_train_resampled, y_train_resampled):\n",
    "    # Split data into train and test based on the indices\n",
    "    X_train_fold, X_test_fold = X_train_resampled[train_index], X_train_resampled[test_index]\n",
    "    y_train_fold, y_test_fold = y_train_resampled.iloc[train_index], y_train_resampled.iloc[test_index]\n",
    "    \n",
    "    # Train the model\n",
    "    model.fit(X_train_fold, y_train_fold)\n",
    "    \n",
    "    # Predict on the test fold\n",
    "    y_pred = model.predict(X_test_fold)\n",
    "    \n",
    "    # Evaluate using accuracy (since it's classification)\n",
    "    accuracy = model.score(X_test_fold, y_test_fold)\n",
    "    \n",
    "    # Store the accuracy score for this fold\n",
    "    test_scores.append(accuracy)\n",
    "\n",
    "# Convert the test scores list into a pandas DataFrame\n",
    "df_scores = pd.DataFrame(test_scores, columns=['Accuracy'])\n",
    "\n",
    "# Save the DataFrame to a CSV file\n",
    "os.makedirs('statistical_treatment', exist_ok=True) \n",
    "df_scores.to_csv('statistical_treatment/LOGRES_' + path + '_test_scores.csv', index=False)\n",
    "\n",
    "# Print the results\n",
    "print(\"Test scores for each fold (accuracy):\", test_scores)\n",
    "print(\"Average accuracy across all folds:\", np.mean(test_scores))\n"
   ]
  },
  {
   "cell_type": "code",
   "execution_count": 20,
   "id": "4ac38280-6098-475f-9917-d2655371bd1c",
   "metadata": {},
   "outputs": [],
   "source": [
    "# import pickle\n",
    "# import numpy as np\n",
    "# import pandas as pd\n",
    "# import spacy\n",
    "# import demoji\n",
    "# import re\n",
    "# from sklearn.preprocessing import StandardScaler\n",
    "# from imblearn.over_sampling import SMOTE\n",
    "# from sklearn.linear_model import LogisticRegression\n",
    "# from nltk.corpus import stopwords\n",
    "\n",
    "# # Load the pre-trained Spacy model\n",
    "# nlp = spacy.load(\"en_core_web_md\", disable=[\"tagger\", \"parser\", \"ner\"])\n",
    "\n",
    "# # Load stopwords\n",
    "# stop_words = set(stopwords.words('english'))\n",
    "\n",
    "# # Load the pre-trained model\n",
    "# model_path = \"saved_models/English/logistic_regression_English.pkl\"\n",
    "# with open(model_path, 'rb') as model_file:\n",
    "#     model = pickle.load(model_file)\n",
    "\n",
    "# # Load the scaler used during training\n",
    "# scaler_path = \"saved_models/Scalers/RegressorScaler_English.pkl\"\n",
    "# with open(scaler_path, 'rb') as scaler_file:\n",
    "#     scaler = pickle.load(scaler_file)\n",
    "\n",
    "# # Define text preprocessing function\n",
    "# def clean_text(text):\n",
    "#     text = re.sub(r'@[A-Za-z0-9_]+', '', text)  # Remove mentions\n",
    "#     text = re.sub(r'#\\w+', '', text)  # Remove hashtags\n",
    "#     text = re.sub(r'http\\S+|www\\S+|https\\S+', '', text)  # Remove URLs\n",
    "#     text = demoji.replace_with_desc(text)  # Replace emojis with text\n",
    "#     text = re.sub(r'(:[a-zA-Z\\s]+:)', r' \\1 ', text)  # Add spaces around the shortcode\n",
    "#     text = re.sub(r'(:[a-zA-Z\\s]+:)', lambda match: match.group(0).replace(' ', '_'), text)\n",
    "#     text = text.strip()  # Remove leading/trailing spaces\n",
    "#     return text\n",
    "\n",
    "# def remove_stopwords(text):\n",
    "#     words = text.split()\n",
    "#     filtered_words = [word for word in words if word.lower() not in stop_words]\n",
    "#     return ' '.join(filtered_words)\n",
    "\n",
    "# # Function to extract embeddings from text\n",
    "# def get_avg_embedding(text):\n",
    "#     text = clean_text(text)\n",
    "#     text = remove_stopwords(text)\n",
    "    \n",
    "#     # Create embeddings for the clean text using the Spacy model\n",
    "#     doc = nlp(text)\n",
    "#     embeddings = [token.vector for token in doc]\n",
    "#     avg_embedding = np.mean(embeddings, axis=0) if embeddings else np.zeros(300)\n",
    "    \n",
    "#     return avg_embedding\n",
    "\n",
    "# # Function to predict the class of a given tweet\n",
    "# def predict_sentiment(tweet):\n",
    "#     # Preprocess the tweet and extract the embeddings\n",
    "#     avg_embedding = get_avg_embedding(tweet)\n",
    "    \n",
    "#     # Scale the embeddings using the saved scaler\n",
    "#     avg_embedding_scaled = scaler.transform([avg_embedding])\n",
    "\n",
    "#     # Make the prediction using the model\n",
    "#     prediction = model.predict(avg_embedding_scaled)\n",
    "    \n",
    "#     return prediction[0]\n",
    "\n",
    "# # Main function to interact with the user\n",
    "# if __name__ == \"__main__\":\n",
    "#     tweet = input(\"Enter a tweet to predict sentiment: \")\n",
    "#     prediction = predict_sentiment(tweet)\n",
    "    \n",
    "#     # Print the prediction\n",
    "#     print(f\"Predicted sentiment: {prediction}\")"
   ]
  }
 ],
 "metadata": {
  "kernelspec": {
   "display_name": "Python 3 (ipykernel)",
   "language": "python",
   "name": "python3"
  },
  "language_info": {
   "codemirror_mode": {
    "name": "ipython",
    "version": 3
   },
   "file_extension": ".py",
   "mimetype": "text/x-python",
   "name": "python",
   "nbconvert_exporter": "python",
   "pygments_lexer": "ipython3",
   "version": "3.12.3"
  }
 },
 "nbformat": 4,
 "nbformat_minor": 5
}
